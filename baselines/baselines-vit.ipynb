{
 "cells": [
  {
   "cell_type": "code",
   "execution_count": 1,
   "id": "1580eae6-2202-4b3e-86cb-97e91b1a98af",
   "metadata": {},
   "outputs": [],
   "source": [
    "import pandas as pd \n",
    "from torchvision.models import VisionTransformer, ViT_L_16_Weights\n",
    "from torchvision.models.vision_transformer import vit_l_16\n",
    "from pytorch_ood.utils import fix_random_seed\n",
    "\n",
    "fix_random_seed(123)\n",
    "\n",
    "\n",
    "device = \"cuda:0\"\n",
    "all_results = []\n"
   ]
  },
  {
   "cell_type": "code",
   "execution_count": 2,
   "id": "9c1c4b2d-16b9-4c6b-bd8d-d07f2aeb66a2",
   "metadata": {},
   "outputs": [],
   "source": [
    "import torch\n",
    "from torch import nn\n",
    "from torch.optim import Adam\n",
    "from torch.utils.data import DataLoader\n",
    "from torchvision.datasets import MNIST, FashionMNIST\n",
    "from torchvision.transforms import ToTensor\n",
    "from pytorch_ood.loss import DeepSVDDLoss\n",
    "from pytorch_ood.utils import OODMetrics, ToUnknown"
   ]
  },
  {
   "cell_type": "code",
   "execution_count": 3,
   "id": "e7538646-2aab-4bfa-be31-c38c91eb7dc9",
   "metadata": {
    "tags": []
   },
   "outputs": [],
   "source": [
    "import numpy as np \n",
    "import torch \n",
    "\n",
    "with np.load(\"../sumnist/x-test.npz\") as data:\n",
    "    x_test = torch.tensor(data['arr_0'])\n",
    "    \n",
    "with np.load(\"../sumnist/x-train.npz\") as data:\n",
    "    x_train = torch.tensor(data['arr_0'])\n",
    "    \n",
    "with np.load(\"../sumnist/y-test.npz\") as data:\n",
    "    y_test = torch.tensor(data['arr_0'])\n",
    "    y_test = torch.where(y_test.sum(dim=1) == 20, 0, -1)\n",
    "    # y_test = torch.where(y_test == 20, 0, -1)"
   ]
  },
  {
   "cell_type": "code",
   "execution_count": 4,
   "id": "dff32bd0-d6b2-4050-b103-8fd05e4d7ae7",
   "metadata": {},
   "outputs": [],
   "source": [
    "from torch.utils.data import TensorDataset\n",
    "\n",
    "train_dataset = TensorDataset(x_train.unsqueeze(1))\n",
    "train_loader = DataLoader(train_dataset, num_workers=5, batch_size=128, shuffle=True)\n",
    "\n",
    "test_dataset = TensorDataset(x_test.unsqueeze(1), y_test)\n",
    "\n",
    "test_loader = DataLoader(test_dataset, shuffle=False, num_workers=5, batch_size=256)"
   ]
  },
  {
   "cell_type": "markdown",
   "id": "1bf8e080-7a08-483a-91b1-354a3e6bea22",
   "metadata": {},
   "source": [
    "# Deep OC-SVDD"
   ]
  },
  {
   "cell_type": "code",
   "execution_count": 5,
   "id": "8726ca3a-534d-4b51-b00e-db2726456d26",
   "metadata": {},
   "outputs": [],
   "source": [
    "class Model(nn.Module):\n",
    "    \"\"\" \"\"\"\n",
    "    def __init__(self):\n",
    "        super().__init__()\n",
    "        self.c1 = nn.Conv2d(1, 16, 3, padding=1, bias=False)\n",
    "        self.pool = nn.MaxPool2d(2)\n",
    "        self.c2 = nn.Conv2d(16, 32, 3, padding=1, bias=False)\n",
    "        self.c3 = nn.Conv2d(32, 64, 3, padding=1, bias=False)\n",
    "        self.layer5 = nn.Linear(3136, 128, bias=False)\n",
    "        self.layer6 = nn.Linear(128, 2, bias=False)\n",
    "\n",
    "    def forward(self, x):\n",
    "        batch_size = x.shape[0]\n",
    "        x = self.c1(x).relu()\n",
    "        x = self.pool(x)\n",
    "        x = self.c2(x).relu()\n",
    "        x = self.pool(x)\n",
    "        x = self.c3(x).relu()\n",
    "        x = self.pool(x)\n",
    "        x = x.reshape(batch_size, -1)\n",
    "        x = self.layer5(x).relu()\n",
    "        x = self.layer6(x)\n",
    "        return x\n"
   ]
  },
  {
   "cell_type": "code",
   "execution_count": 6,
   "id": "49d41fc0-a6b6-42c6-a58d-5c21d8c1c3a4",
   "metadata": {},
   "outputs": [],
   "source": [
    "model = Model().to(device)\n",
    "\n",
    "opti = Adam(model.parameters(), lr=0.001)\n",
    "\n",
    "with torch.no_grad():\n",
    "    d = [model(x[0].to(device)) for x in train_loader]\n",
    "    center = torch.concat(d).mean(dim=0).cpu()\n",
    "\n",
    "criterion = DeepSVDDLoss(n_dim=2, center=center).to(device)"
   ]
  },
  {
   "cell_type": "code",
   "execution_count": 7,
   "id": "db6f735c-b5ef-42c0-846e-d1839ffc2bef",
   "metadata": {},
   "outputs": [],
   "source": [
    "def test():\n",
    "    model.eval()\n",
    "    metrics = OODMetrics()\n",
    "    with torch.no_grad():\n",
    "        for x, y in test_loader:\n",
    "            z = model(x.to(device))\n",
    "            # calculate (squared) distance of points to the center in output space\n",
    "            distances = criterion.distance(z)\n",
    "            # dists.append(distances)\n",
    "            # labels.append(y)\n",
    "            # print(y)\n",
    "            metrics.update(distances, y)\n",
    "    \n",
    "    m = metrics.compute()\n",
    "    # print(metrics.compute())\n",
    "    model.train()\n",
    "    return m \n"
   ]
  },
  {
   "cell_type": "code",
   "execution_count": 8,
   "id": "bbfb0bfe-8c00-4c5d-a287-1a327dfed96e",
   "metadata": {},
   "outputs": [
    {
     "name": "stdout",
     "output_type": "stream",
     "text": [
      "Epoch 0, {'AUROC': 0.5042188167572021, 'AUPR-IN': 0.18277691304683685, 'AUPR-OUT': 0.8196657299995422, 'FPR95TPR': 0.9463000297546387}\n",
      "Epoch 1, {'AUROC': 0.49990278482437134, 'AUPR-IN': 0.1824645698070526, 'AUPR-OUT': 0.8180092573165894, 'FPR95TPR': 0.9448999762535095}\n",
      "Epoch 2, {'AUROC': 0.4990214705467224, 'AUPR-IN': 0.18202337622642517, 'AUPR-OUT': 0.8179963827133179, 'FPR95TPR': 0.9483000040054321}\n",
      "Epoch 3, {'AUROC': 0.49952933192253113, 'AUPR-IN': 0.18238399922847748, 'AUPR-OUT': 0.8178579807281494, 'FPR95TPR': 0.9498000144958496}\n",
      "Epoch 4, {'AUROC': 0.5000526309013367, 'AUPR-IN': 0.1829579770565033, 'AUPR-OUT': 0.8182710409164429, 'FPR95TPR': 0.9519000053405762}\n",
      "Epoch 5, {'AUROC': 0.4993959367275238, 'AUPR-IN': 0.18254747986793518, 'AUPR-OUT': 0.8179685473442078, 'FPR95TPR': 0.9483000040054321}\n",
      "Epoch 6, {'AUROC': 0.49892011284828186, 'AUPR-IN': 0.18231448531150818, 'AUPR-OUT': 0.8185650706291199, 'FPR95TPR': 0.9484000205993652}\n",
      "Epoch 7, {'AUROC': 0.49903491139411926, 'AUPR-IN': 0.1825827956199646, 'AUPR-OUT': 0.8190140128135681, 'FPR95TPR': 0.9502999782562256}\n",
      "Epoch 8, {'AUROC': 0.4991232752799988, 'AUPR-IN': 0.18274523317813873, 'AUPR-OUT': 0.8196556568145752, 'FPR95TPR': 0.9435999989509583}\n",
      "Epoch 9, {'AUROC': 0.4974830746650696, 'AUPR-IN': 0.1819857656955719, 'AUPR-OUT': 0.8185088634490967, 'FPR95TPR': 0.9415000081062317}\n",
      "Epoch 10, {'AUROC': 0.4963200092315674, 'AUPR-IN': 0.18145497143268585, 'AUPR-OUT': 0.8176394701004028, 'FPR95TPR': 0.9452999830245972}\n",
      "Epoch 11, {'AUROC': 0.49587756395339966, 'AUPR-IN': 0.1809506118297577, 'AUPR-OUT': 0.8163609504699707, 'FPR95TPR': 0.9452000260353088}\n",
      "Epoch 12, {'AUROC': 0.49631282687187195, 'AUPR-IN': 0.18139250576496124, 'AUPR-OUT': 0.8154149651527405, 'FPR95TPR': 0.9524000287055969}\n",
      "Epoch 13, {'AUROC': 0.49401208758354187, 'AUPR-IN': 0.18023204803466797, 'AUPR-OUT': 0.8134493231773376, 'FPR95TPR': 0.9521999955177307}\n",
      "Epoch 14, {'AUROC': 0.4959515631198883, 'AUPR-IN': 0.18118223547935486, 'AUPR-OUT': 0.815010666847229, 'FPR95TPR': 0.9532999992370605}\n",
      "Epoch 15, {'AUROC': 0.49408459663391113, 'AUPR-IN': 0.18037603795528412, 'AUPR-OUT': 0.8135371208190918, 'FPR95TPR': 0.951200008392334}\n",
      "Epoch 16, {'AUROC': 0.4947611689567566, 'AUPR-IN': 0.180959090590477, 'AUPR-OUT': 0.8141279816627502, 'FPR95TPR': 0.9491999745368958}\n",
      "Epoch 17, {'AUROC': 0.4948520064353943, 'AUPR-IN': 0.18129491806030273, 'AUPR-OUT': 0.8132163286209106, 'FPR95TPR': 0.9509000182151794}\n",
      "Epoch 18, {'AUROC': 0.49254482984542847, 'AUPR-IN': 0.18026921153068542, 'AUPR-OUT': 0.8135592341423035, 'FPR95TPR': 0.949999988079071}\n",
      "Epoch 19, {'AUROC': 0.49321049451828003, 'AUPR-IN': 0.18071749806404114, 'AUPR-OUT': 0.8127585053443909, 'FPR95TPR': 0.9513999819755554}\n"
     ]
    }
   ],
   "source": [
    "for epoch in range(20):\n",
    "    for x in train_loader:\n",
    "        z = model(x[0].to(device))\n",
    "        # since this is a one-class method, we do not have to provide any class labels\n",
    "        loss = criterion(z)\n",
    "        opti.zero_grad()\n",
    "        loss.backward()\n",
    "        opti.step()\n",
    "\n",
    "    m = test()\n",
    "    print(f\"Epoch {epoch}, {m}\")\n",
    "\n",
    "m.update({\"Method\": \"Deep SVDD\", \"Backbone\": \"-\"})\n",
    "all_results.append(m)"
   ]
  },
  {
   "cell_type": "markdown",
   "id": "1490f8f8-1975-40e8-a8f5-3cbd6d0f3a69",
   "metadata": {},
   "source": [
    "# Using nearest neighbor "
   ]
  },
  {
   "cell_type": "code",
   "execution_count": 9,
   "id": "ba3795b3-e8df-4a0e-8651-4724276073b7",
   "metadata": {},
   "outputs": [],
   "source": [
    "from sklearn.neighbors import NearestNeighbors\n",
    "\n",
    "knn = NearestNeighbors(n_neighbors=1, algorithm='ball_tree', n_jobs=-1).fit(x_train.view(-1, 56*56).numpy())"
   ]
  },
  {
   "cell_type": "code",
   "execution_count": 10,
   "id": "e27c90d1-6257-4f6a-a275-e9bf618d9fc6",
   "metadata": {},
   "outputs": [],
   "source": [
    "distances, indices = knn.kneighbors(x_test.view(-1, 56*56).numpy())"
   ]
  },
  {
   "cell_type": "code",
   "execution_count": 11,
   "id": "88d51204-59f9-4b7a-aed5-28a79bfff925",
   "metadata": {},
   "outputs": [
    {
     "name": "stdout",
     "output_type": "stream",
     "text": [
      "{'AUROC': 0.5, 'AUPR-IN': 0.5918367505073547, 'AUPR-OUT': 0.90816330909729, 'FPR95TPR': 1.0, 'Method': '1-NN', 'Backbone': '-'}\n"
     ]
    }
   ],
   "source": [
    "metrics = OODMetrics()\n",
    "metrics.update(torch.tensor(distances), y_test)\n",
    "\n",
    "m = metrics.compute()\n",
    "m.update({\"Method\": \"1-NN\", \"Backbone\": \"-\"})\n",
    "all_results.append(m)\n",
    "print(m)"
   ]
  },
  {
   "cell_type": "markdown",
   "id": "46e05f96-80aa-4104-80c4-6584183dd9f9",
   "metadata": {},
   "source": [
    "# Mahalanobis "
   ]
  },
  {
   "cell_type": "code",
   "execution_count": 12,
   "id": "a63417f8-eb77-417d-a429-bb59e4cfcc78",
   "metadata": {},
   "outputs": [
    {
     "name": "stdout",
     "output_type": "stream",
     "text": [
      "{'AUROC': 0.5, 'AUPR-IN': 0.5918367505073547, 'AUPR-OUT': 0.90816330909729, 'FPR95TPR': 1.0, 'Method': 'Mahalanobis', 'Backbone': '-'}\n"
     ]
    }
   ],
   "source": [
    "from sklearn.covariance import EmpiricalCovariance\n",
    "\n",
    "x_features_train = x_train.view(-1, 56*56)\n",
    "x_features_test = x_test.view(-1, 56*56)\n",
    "x_mean = x_features_train.mean(dim=0)\n",
    "\n",
    "cov = EmpiricalCovariance().fit((x_features_train - x_mean).numpy())\n",
    "distances = cov.mahalanobis((x_features_test - x_mean).numpy())\n",
    "\n",
    "metrics = OODMetrics()\n",
    "metrics.update(torch.tensor(distances), y_test)\n",
    "m = metrics.compute()\n",
    "m.update({\"Method\": \"Mahalanobis\", \"Backbone\": \"-\"})\n",
    "all_results.append(m)\n",
    "print(m)"
   ]
  },
  {
   "cell_type": "markdown",
   "id": "edaa38c2-66d8-468a-bbfe-8ca655023956",
   "metadata": {},
   "source": [
    "# Extract ViT Features "
   ]
  },
  {
   "cell_type": "code",
   "execution_count": 13,
   "id": "7fd32341-911d-4b5f-a758-3e5663b48d60",
   "metadata": {},
   "outputs": [],
   "source": [
    "model = vit_l_16(weights=ViT_L_16_Weights.DEFAULT)\n",
    "preprocess = ViT_L_16_Weights.DEFAULT.transforms()\n",
    "model = model.to(device)"
   ]
  },
  {
   "cell_type": "code",
   "execution_count": 14,
   "id": "99fb4afc-773a-4f28-8cf9-535be9302c10",
   "metadata": {},
   "outputs": [],
   "source": [
    "x_test_rgb = x_test.unsqueeze(1).repeat(1, 3, 1, 1)\n",
    "x_train_rgb = x_train.unsqueeze(1).repeat(1, 3, 1, 1)"
   ]
  },
  {
   "cell_type": "code",
   "execution_count": 15,
   "id": "8d4bed9d-4503-4ea5-aeea-4da28ce1922f",
   "metadata": {},
   "outputs": [
    {
     "name": "stdout",
     "output_type": "stream",
     "text": [
      "ImageClassification(\n",
      "    crop_size=[224]\n",
      "    resize_size=[242]\n",
      "    mean=[0.485, 0.456, 0.406]\n",
      "    std=[0.229, 0.224, 0.225]\n",
      "    interpolation=InterpolationMode.BILINEAR\n",
      ")\n"
     ]
    }
   ],
   "source": [
    "print(preprocess)"
   ]
  },
  {
   "cell_type": "code",
   "execution_count": 16,
   "id": "0aeb68ff-044f-48ce-b9c7-6cfa33274015",
   "metadata": {},
   "outputs": [
    {
     "data": {
      "application/vnd.jupyter.widget-view+json": {
       "model_id": "3646e9ee6a2d4433934615871347f8f3",
       "version_major": 2,
       "version_minor": 0
      },
      "text/plain": [
       "  0%|          | 0/12250 [00:00<?, ?it/s]"
      ]
     },
     "metadata": {},
     "output_type": "display_data"
    }
   ],
   "source": [
    "from tqdm.notebook import tqdm \n",
    "from torchvision.transforms.functional import to_pil_image\n",
    "\n",
    "features_test = []\n",
    "\n",
    "with torch.no_grad():\n",
    "    for i in tqdm(range(x_test_rgb.shape[0])):\n",
    "        prep = preprocess(to_pil_image(x_test_rgb[i]))\n",
    "        image_features = model(prep.cuda().unsqueeze(0)).float()\n",
    "        features_test.append(image_features)"
   ]
  },
  {
   "cell_type": "code",
   "execution_count": 17,
   "id": "9a59518a-c8fd-44fd-b95c-fed7ef4723db",
   "metadata": {},
   "outputs": [
    {
     "data": {
      "application/vnd.jupyter.widget-view+json": {
       "model_id": "1de3827074cc40978696b20dce4b6ae4",
       "version_major": 2,
       "version_minor": 0
      },
      "text/plain": [
       "  0%|          | 0/60000 [00:00<?, ?it/s]"
      ]
     },
     "metadata": {},
     "output_type": "display_data"
    }
   ],
   "source": [
    "features_train = []\n",
    "\n",
    "with torch.no_grad():\n",
    "    for i in tqdm(range(x_train_rgb.shape[0])):\n",
    "        prep = preprocess(to_pil_image(x_train_rgb[i]))\n",
    "        image_features = model(prep.cuda().unsqueeze(0)).float()\n",
    "        features_train.append(image_features)"
   ]
  },
  {
   "cell_type": "code",
   "execution_count": 18,
   "id": "4eaa5fa2-e906-4486-9704-0c8a3a5110aa",
   "metadata": {},
   "outputs": [],
   "source": [
    "train_features = torch.cat(features_train).cpu()\n",
    "test_features = torch.cat(features_test).cpu()"
   ]
  },
  {
   "cell_type": "markdown",
   "id": "64a8f760-8251-44e1-af59-6df04b666338",
   "metadata": {},
   "source": [
    "# kNN-CLIP"
   ]
  },
  {
   "cell_type": "code",
   "execution_count": 19,
   "id": "ba43e58b-b4cf-4020-b8ee-3feb9229710a",
   "metadata": {},
   "outputs": [],
   "source": [
    "nbrs = NearestNeighbors(n_neighbors=1, algorithm='ball_tree', n_jobs=-1).fit(train_features.numpy())"
   ]
  },
  {
   "cell_type": "code",
   "execution_count": 20,
   "id": "7ac94002-d455-47eb-885d-32826c8e1472",
   "metadata": {},
   "outputs": [],
   "source": [
    "distances, indices = nbrs.kneighbors(test_features.numpy())"
   ]
  },
  {
   "cell_type": "code",
   "execution_count": 21,
   "id": "dc981b26-2685-4ec0-998e-d6078b6d1666",
   "metadata": {},
   "outputs": [
    {
     "name": "stdout",
     "output_type": "stream",
     "text": [
      "{'AUROC': 0.511908233165741, 'AUPR-IN': 0.1880882978439331, 'AUPR-OUT': 0.8220650553703308, 'FPR95TPR': 0.9434000253677368, 'Method': '1-NN', 'Backbone': 'ViT-L-16'}\n"
     ]
    }
   ],
   "source": [
    "metrics = OODMetrics()\n",
    "metrics.update(torch.tensor(distances), y_test)\n",
    "\n",
    "m = metrics.compute()\n",
    "m.update({\"Method\": \"1-NN\", \"Backbone\": \"ViT-L-16\"})\n",
    "all_results.append(m)\n",
    "print(m)"
   ]
  },
  {
   "cell_type": "markdown",
   "id": "7a0c5a67-0f69-4c65-8af6-4b003b1ee7cb",
   "metadata": {},
   "source": [
    "# Mahalanobis"
   ]
  },
  {
   "cell_type": "code",
   "execution_count": 22,
   "id": "a0e9eba9-07c4-404e-93da-d842697e342c",
   "metadata": {},
   "outputs": [
    {
     "name": "stdout",
     "output_type": "stream",
     "text": [
      "{'AUROC': 0.5, 'AUPR-IN': 0.5918367505073547, 'AUPR-OUT': 0.8230504989624023, 'FPR95TPR': 1.0, 'Method': 'Mahalanobis', 'Backbone': 'ViT-L-16'}\n"
     ]
    }
   ],
   "source": [
    "from sklearn.covariance import EmpiricalCovariance\n",
    "\n",
    "x_mean = train_features.mean(dim=0)\n",
    "\n",
    "cov = EmpiricalCovariance().fit((train_features - x_mean).numpy())\n",
    "distances = cov.mahalanobis((test_features - x_mean).numpy())\n",
    "\n",
    "metrics = OODMetrics()\n",
    "metrics.update(torch.tensor(distances), y_test)\n",
    "m = metrics.compute()\n",
    "m.update({\"Method\": \"Mahalanobis\", \"Backbone\": \"ViT-L-16\"})\n",
    "all_results.append(m)\n",
    "print(m)"
   ]
  },
  {
   "cell_type": "code",
   "execution_count": 23,
   "id": "a722b192-8548-4918-b13e-c3b065025a1f",
   "metadata": {},
   "outputs": [
    {
     "name": "stdout",
     "output_type": "stream",
     "text": [
      "\\begin{tabular}{llrrrr}\n",
      "\\toprule\n",
      " &  & AUROC & AUPR-IN & AUPR-OUT & FPR95TPR \\\\\n",
      "Method & Backbone &  &  &  &  \\\\\n",
      "\\midrule\n",
      "Deep SVDD & - & 49.32 & 18.07 & 81.28 & 95.14 \\\\\n",
      "\\cline{1-6}\n",
      "1-NN & - & 50.00 & 59.18 & 90.82 & 100.00 \\\\\n",
      "\\cline{1-6}\n",
      "\\multirow[t]{2}{*}{Mahalanobis} & - & 50.00 & 59.18 & 90.82 & 100.00 \\\\\n",
      " & ViT-L-16 & 50.00 & 59.18 & 82.31 & 100.00 \\\\\n",
      "\\cline{1-6}\n",
      "1-NN & ViT-L-16 & 51.19 & 18.81 & 82.21 & 94.34 \\\\\n",
      "\\cline{1-6}\n",
      "\\bottomrule\n",
      "\\end{tabular}\n",
      "\n"
     ]
    }
   ],
   "source": [
    "df = pd.DataFrame(all_results)\n",
    "mean_scores = df.groupby([\"Method\", \"Backbone\"]).mean() * 100\n",
    "\n",
    "print(mean_scores.sort_values(\"AUROC\").to_latex(float_format=\"%.2f\"))"
   ]
  },
  {
   "cell_type": "code",
   "execution_count": 24,
   "id": "65e99f17-2ba0-4d1a-b7aa-6dafbd1a39d4",
   "metadata": {
    "tags": []
   },
   "outputs": [
    {
     "data": {
      "text/html": [
       "<div>\n",
       "<style scoped>\n",
       "    .dataframe tbody tr th:only-of-type {\n",
       "        vertical-align: middle;\n",
       "    }\n",
       "\n",
       "    .dataframe tbody tr th {\n",
       "        vertical-align: top;\n",
       "    }\n",
       "\n",
       "    .dataframe thead th {\n",
       "        text-align: right;\n",
       "    }\n",
       "</style>\n",
       "<table border=\"1\" class=\"dataframe\">\n",
       "  <thead>\n",
       "    <tr style=\"text-align: right;\">\n",
       "      <th></th>\n",
       "      <th></th>\n",
       "      <th>AUROC</th>\n",
       "      <th>AUPR-IN</th>\n",
       "      <th>AUPR-OUT</th>\n",
       "      <th>FPR95TPR</th>\n",
       "    </tr>\n",
       "    <tr>\n",
       "      <th>Method</th>\n",
       "      <th>Backbone</th>\n",
       "      <th></th>\n",
       "      <th></th>\n",
       "      <th></th>\n",
       "      <th></th>\n",
       "    </tr>\n",
       "  </thead>\n",
       "  <tbody>\n",
       "    <tr>\n",
       "      <th>Deep SVDD</th>\n",
       "      <th>-</th>\n",
       "      <td>49.321049</td>\n",
       "      <td>18.071750</td>\n",
       "      <td>81.275851</td>\n",
       "      <td>95.139998</td>\n",
       "    </tr>\n",
       "    <tr>\n",
       "      <th>1-NN</th>\n",
       "      <th>-</th>\n",
       "      <td>50.000000</td>\n",
       "      <td>59.183675</td>\n",
       "      <td>90.816331</td>\n",
       "      <td>100.000000</td>\n",
       "    </tr>\n",
       "    <tr>\n",
       "      <th rowspan=\"2\" valign=\"top\">Mahalanobis</th>\n",
       "      <th>-</th>\n",
       "      <td>50.000000</td>\n",
       "      <td>59.183675</td>\n",
       "      <td>90.816331</td>\n",
       "      <td>100.000000</td>\n",
       "    </tr>\n",
       "    <tr>\n",
       "      <th>ViT-L-16</th>\n",
       "      <td>50.000000</td>\n",
       "      <td>59.183675</td>\n",
       "      <td>82.305050</td>\n",
       "      <td>100.000000</td>\n",
       "    </tr>\n",
       "    <tr>\n",
       "      <th>1-NN</th>\n",
       "      <th>ViT-L-16</th>\n",
       "      <td>51.190823</td>\n",
       "      <td>18.808830</td>\n",
       "      <td>82.206506</td>\n",
       "      <td>94.340003</td>\n",
       "    </tr>\n",
       "  </tbody>\n",
       "</table>\n",
       "</div>"
      ],
      "text/plain": [
       "                          AUROC    AUPR-IN   AUPR-OUT    FPR95TPR\n",
       "Method      Backbone                                             \n",
       "Deep SVDD   -         49.321049  18.071750  81.275851   95.139998\n",
       "1-NN        -         50.000000  59.183675  90.816331  100.000000\n",
       "Mahalanobis -         50.000000  59.183675  90.816331  100.000000\n",
       "            ViT-L-16  50.000000  59.183675  82.305050  100.000000\n",
       "1-NN        ViT-L-16  51.190823  18.808830  82.206506   94.340003"
      ]
     },
     "execution_count": 24,
     "metadata": {},
     "output_type": "execute_result"
    }
   ],
   "source": [
    "mean_scores.sort_values(\"AUROC\")"
   ]
  },
  {
   "cell_type": "code",
   "execution_count": 25,
   "id": "5d287c99-9bf5-45a5-af97-17b23b2dcbbe",
   "metadata": {},
   "outputs": [],
   "source": [
    "torch.save(train_features, f\"vit_l_16_train.pt\")"
   ]
  },
  {
   "cell_type": "code",
   "execution_count": 26,
   "id": "9860d0ed-5e82-4440-b922-135c51dcd9c1",
   "metadata": {},
   "outputs": [],
   "source": [
    "torch.save(test_features, f\"vit_l_16_test.pt\")"
   ]
  },
  {
   "cell_type": "code",
   "execution_count": 27,
   "id": "2af93eea-a03d-4a12-9dbf-a9e5bb4d1616",
   "metadata": {},
   "outputs": [
    {
     "name": "stdout",
     "output_type": "stream",
     "text": [
      "Method,Backbone,AUROC,AUPR-IN,AUPR-OUT,FPR95TPR\n",
      "Deep SVDD,-,49.32,18.07,81.28,95.14\n",
      "1-NN,-,50.00,59.18,90.82,100.00\n",
      "Mahalanobis,-,50.00,59.18,90.82,100.00\n",
      "Mahalanobis,ViT-L-16,50.00,59.18,82.31,100.00\n",
      "1-NN,ViT-L-16,51.19,18.81,82.21,94.34\n",
      "\n"
     ]
    }
   ],
   "source": [
    "print(mean_scores.sort_values(\"AUROC\").to_csv(float_format=\"%.2f\"))"
   ]
  },
  {
   "cell_type": "code",
   "execution_count": null,
   "id": "2769969e-7c59-4ee2-9af1-1fa8b820a71d",
   "metadata": {},
   "outputs": [],
   "source": []
  }
 ],
 "metadata": {
  "kernelspec": {
   "display_name": "pytorch",
   "language": "python",
   "name": "pytorch"
  },
  "language_info": {
   "codemirror_mode": {
    "name": "ipython",
    "version": 3
   },
   "file_extension": ".py",
   "mimetype": "text/x-python",
   "name": "python",
   "nbconvert_exporter": "python",
   "pygments_lexer": "ipython3",
   "version": "3.10.11"
  }
 },
 "nbformat": 4,
 "nbformat_minor": 5
}
