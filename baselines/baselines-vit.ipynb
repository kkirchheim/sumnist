{
 "cells": [
  {
   "cell_type": "code",
   "execution_count": 1,
   "id": "1580eae6-2202-4b3e-86cb-97e91b1a98af",
   "metadata": {},
   "outputs": [],
   "source": [
    "import pandas as pd \n",
    "from torchvision.models import VisionTransformer, ViT_L_16_Weights\n",
    "from torchvision.models.vision_transformer import vit_l_16\n",
    "\n",
    "\n",
    "device = \"cuda:0\"\n",
    "all_results = []\n"
   ]
  },
  {
   "cell_type": "code",
   "execution_count": 4,
   "id": "9c1c4b2d-16b9-4c6b-bd8d-d07f2aeb66a2",
   "metadata": {},
   "outputs": [],
   "source": [
    "import torch\n",
    "from torch import nn\n",
    "from torch.optim import Adam\n",
    "from torch.utils.data import DataLoader\n",
    "from torchvision.datasets import MNIST, FashionMNIST\n",
    "from torchvision.transforms import ToTensor\n",
    "from pytorch_ood.loss import DeepSVDDLoss\n",
    "from pytorch_ood.utils import OODMetrics, ToUnknown"
   ]
  },
  {
   "cell_type": "code",
   "execution_count": 5,
   "id": "e7538646-2aab-4bfa-be31-c38c91eb7dc9",
   "metadata": {
    "tags": []
   },
   "outputs": [],
   "source": [
    "import numpy as np \n",
    "import torch \n",
    "\n",
    "with np.load(\"../sumnist/x-test.npz\") as data:\n",
    "    x_test = torch.tensor(data['arr_0'])\n",
    "    \n",
    "with np.load(\"../sumnist/x-train.npz\") as data:\n",
    "    x_train = torch.tensor(data['arr_0'])\n",
    "    \n",
    "with np.load(\"../sumnist/y-test.npz\") as data:\n",
    "    y_test = torch.tensor(data['arr_0'])\n",
    "    y_test = torch.where(y_test.sum(dim=1) == 20, 0, -1)\n",
    "    # y_test = torch.where(y_test == 20, 0, -1)"
   ]
  },
  {
   "cell_type": "code",
   "execution_count": 6,
   "id": "dff32bd0-d6b2-4050-b103-8fd05e4d7ae7",
   "metadata": {},
   "outputs": [],
   "source": [
    "from torch.utils.data import TensorDataset\n",
    "\n",
    "train_dataset = TensorDataset(x_train.unsqueeze(1))\n",
    "train_loader = DataLoader(train_dataset, num_workers=5, batch_size=128, shuffle=True)\n",
    "\n",
    "test_dataset = TensorDataset(x_test.unsqueeze(1), y_test)\n",
    "\n",
    "test_loader = DataLoader(test_dataset, shuffle=False, num_workers=5, batch_size=256)"
   ]
  },
  {
   "cell_type": "markdown",
   "id": "1bf8e080-7a08-483a-91b1-354a3e6bea22",
   "metadata": {},
   "source": [
    "# Deep OC-SVDD"
   ]
  },
  {
   "cell_type": "code",
   "execution_count": 7,
   "id": "8726ca3a-534d-4b51-b00e-db2726456d26",
   "metadata": {},
   "outputs": [],
   "source": [
    "class Model(nn.Module):\n",
    "    \"\"\" \"\"\"\n",
    "    def __init__(self):\n",
    "        super().__init__()\n",
    "        self.c1 = nn.Conv2d(1, 16, 3, padding=1, bias=False)\n",
    "        self.pool = nn.MaxPool2d(2)\n",
    "        self.c2 = nn.Conv2d(16, 32, 3, padding=1, bias=False)\n",
    "        self.c3 = nn.Conv2d(32, 64, 3, padding=1, bias=False)\n",
    "        self.layer5 = nn.Linear(3136, 128, bias=False)\n",
    "        self.layer6 = nn.Linear(128, 2, bias=False)\n",
    "\n",
    "    def forward(self, x):\n",
    "        batch_size = x.shape[0]\n",
    "        x = self.c1(x).relu()\n",
    "        x = self.pool(x)\n",
    "        x = self.c2(x).relu()\n",
    "        x = self.pool(x)\n",
    "        x = self.c3(x).relu()\n",
    "        x = self.pool(x)\n",
    "        x = x.reshape(batch_size, -1)\n",
    "        x = self.layer5(x).relu()\n",
    "        x = self.layer6(x)\n",
    "        return x\n"
   ]
  },
  {
   "cell_type": "code",
   "execution_count": 8,
   "id": "49d41fc0-a6b6-42c6-a58d-5c21d8c1c3a4",
   "metadata": {},
   "outputs": [],
   "source": [
    "model = Model().to(device)\n",
    "\n",
    "opti = Adam(model.parameters(), lr=0.001)\n",
    "\n",
    "with torch.no_grad():\n",
    "    d = [model(x[0].to(device)) for x in train_loader]\n",
    "    center = torch.concat(d).mean(dim=0).cpu()\n",
    "\n",
    "criterion = DeepSVDDLoss(n_dim=2, center=center).to(device)"
   ]
  },
  {
   "cell_type": "code",
   "execution_count": 9,
   "id": "db6f735c-b5ef-42c0-846e-d1839ffc2bef",
   "metadata": {},
   "outputs": [],
   "source": [
    "def test():\n",
    "    model.eval()\n",
    "    metrics = OODMetrics()\n",
    "    with torch.no_grad():\n",
    "        for x, y in test_loader:\n",
    "            z = model(x.to(device))\n",
    "            # calculate (squared) distance of points to the center in output space\n",
    "            distances = criterion.distance(z)\n",
    "            # dists.append(distances)\n",
    "            # labels.append(y)\n",
    "            # print(y)\n",
    "            metrics.update(distances, y)\n",
    "    \n",
    "    m = metrics.compute()\n",
    "    # print(metrics.compute())\n",
    "    model.train()\n",
    "    return m \n"
   ]
  },
  {
   "cell_type": "code",
   "execution_count": 10,
   "id": "bbfb0bfe-8c00-4c5d-a287-1a327dfed96e",
   "metadata": {},
   "outputs": [
    {
     "name": "stdout",
     "output_type": "stream",
     "text": [
      "Epoch 0, {'AUROC': 0.5078701376914978, 'AUPR-IN': 0.18611201643943787, 'AUPR-OUT': 0.8222492933273315, 'FPR95TPR': 0.9458000063896179}\n",
      "Epoch 1, {'AUROC': 0.506420910358429, 'AUPR-IN': 0.18670223653316498, 'AUPR-OUT': 0.8218008875846863, 'FPR95TPR': 0.944100022315979}\n",
      "Epoch 2, {'AUROC': 0.5052894353866577, 'AUPR-IN': 0.18622472882270813, 'AUPR-OUT': 0.8202484846115112, 'FPR95TPR': 0.9527000188827515}\n",
      "Epoch 3, {'AUROC': 0.5058674216270447, 'AUPR-IN': 0.18646715581417084, 'AUPR-OUT': 0.8197945356369019, 'FPR95TPR': 0.9501000046730042}\n",
      "Epoch 4, {'AUROC': 0.5059001445770264, 'AUPR-IN': 0.1859733760356903, 'AUPR-OUT': 0.8210631608963013, 'FPR95TPR': 0.9488000273704529}\n",
      "Epoch 5, {'AUROC': 0.5080726742744446, 'AUPR-IN': 0.18786318600177765, 'AUPR-OUT': 0.8209936618804932, 'FPR95TPR': 0.9531999826431274}\n",
      "Epoch 6, {'AUROC': 0.5049630999565125, 'AUPR-IN': 0.18533343076705933, 'AUPR-OUT': 0.8216214179992676, 'FPR95TPR': 0.9404000043869019}\n",
      "Epoch 7, {'AUROC': 0.5019240975379944, 'AUPR-IN': 0.1839883178472519, 'AUPR-OUT': 0.8199508786201477, 'FPR95TPR': 0.9398999810218811}\n",
      "Epoch 8, {'AUROC': 0.5041160583496094, 'AUPR-IN': 0.1859549582004547, 'AUPR-OUT': 0.8156590461730957, 'FPR95TPR': 0.9492999911308289}\n",
      "Epoch 9, {'AUROC': 0.5023505687713623, 'AUPR-IN': 0.18604907393455505, 'AUPR-OUT': 0.8158828020095825, 'FPR95TPR': 0.9514999985694885}\n",
      "Epoch 10, {'AUROC': 0.503695011138916, 'AUPR-IN': 0.18660564720630646, 'AUPR-OUT': 0.816626787185669, 'FPR95TPR': 0.9490000009536743}\n",
      "Epoch 11, {'AUROC': 0.4982650578022003, 'AUPR-IN': 0.18385939300060272, 'AUPR-OUT': 0.8154264092445374, 'FPR95TPR': 0.9527000188827515}\n",
      "Epoch 12, {'AUROC': 0.5027705430984497, 'AUPR-IN': 0.18598710000514984, 'AUPR-OUT': 0.815142035484314, 'FPR95TPR': 0.9516000151634216}\n",
      "Epoch 13, {'AUROC': 0.5019181966781616, 'AUPR-IN': 0.18594171106815338, 'AUPR-OUT': 0.816483736038208, 'FPR95TPR': 0.9483000040054321}\n",
      "Epoch 14, {'AUROC': 0.501150369644165, 'AUPR-IN': 0.18495647609233856, 'AUPR-OUT': 0.8178889155387878, 'FPR95TPR': 0.9501000046730042}\n",
      "Epoch 15, {'AUROC': 0.49676910042762756, 'AUPR-IN': 0.18301524221897125, 'AUPR-OUT': 0.8154234290122986, 'FPR95TPR': 0.9495000243186951}\n",
      "Epoch 16, {'AUROC': 0.514866828918457, 'AUPR-IN': 0.19205234944820404, 'AUPR-OUT': 0.8232530355453491, 'FPR95TPR': 0.949999988079071}\n",
      "Epoch 17, {'AUROC': 0.5082786083221436, 'AUPR-IN': 0.18906298279762268, 'AUPR-OUT': 0.819290041923523, 'FPR95TPR': 0.9491000175476074}\n",
      "Epoch 18, {'AUROC': 0.5058169364929199, 'AUPR-IN': 0.18760479986667633, 'AUPR-OUT': 0.8193696737289429, 'FPR95TPR': 0.9484999775886536}\n",
      "Epoch 19, {'AUROC': 0.4948217272758484, 'AUPR-IN': 0.18162596225738525, 'AUPR-OUT': 0.8162775039672852, 'FPR95TPR': 0.9466999769210815}\n"
     ]
    }
   ],
   "source": [
    "for epoch in range(20):\n",
    "    for x in train_loader:\n",
    "        z = model(x[0].to(device))\n",
    "        # since this is a one-class method, we do not have to provide any class labels\n",
    "        loss = criterion(z)\n",
    "        opti.zero_grad()\n",
    "        loss.backward()\n",
    "        opti.step()\n",
    "\n",
    "    m = test()\n",
    "    print(f\"Epoch {epoch}, {m}\")\n",
    "\n",
    "m.update({\"Method\": \"Deep SVDD\", \"Backbone\": \"-\"})\n",
    "all_results.append(m)"
   ]
  },
  {
   "cell_type": "markdown",
   "id": "1490f8f8-1975-40e8-a8f5-3cbd6d0f3a69",
   "metadata": {},
   "source": [
    "# Using nearest neighbor "
   ]
  },
  {
   "cell_type": "code",
   "execution_count": 11,
   "id": "ba3795b3-e8df-4a0e-8651-4724276073b7",
   "metadata": {},
   "outputs": [],
   "source": [
    "from sklearn.neighbors import NearestNeighbors\n",
    "\n",
    "knn = NearestNeighbors(n_neighbors=1, algorithm='ball_tree', n_jobs=-1).fit(x_train.view(-1, 56*56).numpy())"
   ]
  },
  {
   "cell_type": "code",
   "execution_count": 12,
   "id": "e27c90d1-6257-4f6a-a275-e9bf618d9fc6",
   "metadata": {},
   "outputs": [],
   "source": [
    "distances, indices = knn.kneighbors(x_test.view(-1, 56*56).numpy())"
   ]
  },
  {
   "cell_type": "code",
   "execution_count": 13,
   "id": "88d51204-59f9-4b7a-aed5-28a79bfff925",
   "metadata": {},
   "outputs": [
    {
     "name": "stdout",
     "output_type": "stream",
     "text": [
      "{'AUROC': 0.5, 'AUPR-IN': 0.5918367505073547, 'AUPR-OUT': 0.90816330909729, 'FPR95TPR': 1.0, 'Method': '1-NN', 'Backbone': '-'}\n"
     ]
    }
   ],
   "source": [
    "metrics = OODMetrics()\n",
    "metrics.update(torch.tensor(distances), y_test)\n",
    "\n",
    "m = metrics.compute()\n",
    "m.update({\"Method\": \"1-NN\", \"Backbone\": \"-\"})\n",
    "all_results.append(m)\n",
    "print(m)"
   ]
  },
  {
   "cell_type": "markdown",
   "id": "46e05f96-80aa-4104-80c4-6584183dd9f9",
   "metadata": {},
   "source": [
    "# Mahalanobis "
   ]
  },
  {
   "cell_type": "code",
   "execution_count": 14,
   "id": "a63417f8-eb77-417d-a429-bb59e4cfcc78",
   "metadata": {},
   "outputs": [
    {
     "name": "stdout",
     "output_type": "stream",
     "text": [
      "{'AUROC': 0.5, 'AUPR-IN': 0.5918367505073547, 'AUPR-OUT': 0.90816330909729, 'FPR95TPR': 1.0, 'Method': 'Mahalanobis', 'Backbone': '-'}\n"
     ]
    }
   ],
   "source": [
    "from sklearn.covariance import EmpiricalCovariance\n",
    "\n",
    "x_features_train = x_train.view(-1, 56*56)\n",
    "x_features_test = x_test.view(-1, 56*56)\n",
    "x_mean = x_features_train.mean(dim=0)\n",
    "\n",
    "cov = EmpiricalCovariance().fit((x_features_train - x_mean).numpy())\n",
    "distances = cov.mahalanobis((x_features_test - x_mean).numpy())\n",
    "\n",
    "metrics = OODMetrics()\n",
    "metrics.update(torch.tensor(distances), y_test)\n",
    "m = metrics.compute()\n",
    "m.update({\"Method\": \"Mahalanobis\", \"Backbone\": \"-\"})\n",
    "all_results.append(m)\n",
    "print(m)"
   ]
  },
  {
   "cell_type": "markdown",
   "id": "edaa38c2-66d8-468a-bbfe-8ca655023956",
   "metadata": {},
   "source": [
    "# Extract ViT Features "
   ]
  },
  {
   "cell_type": "code",
   "execution_count": 17,
   "id": "7fd32341-911d-4b5f-a758-3e5663b48d60",
   "metadata": {},
   "outputs": [],
   "source": [
    "model = vit_l_16(weights=ViT_L_16_Weights.DEFAULT)\n",
    "preprocess = ViT_L_16_Weights.DEFAULT.transforms()\n",
    "model = model.to(device)"
   ]
  },
  {
   "cell_type": "code",
   "execution_count": 18,
   "id": "99fb4afc-773a-4f28-8cf9-535be9302c10",
   "metadata": {},
   "outputs": [],
   "source": [
    "x_test_rgb = x_test.unsqueeze(1).repeat(1, 3, 1, 1)\n",
    "x_train_rgb = x_train.unsqueeze(1).repeat(1, 3, 1, 1)"
   ]
  },
  {
   "cell_type": "code",
   "execution_count": 20,
   "id": "8d4bed9d-4503-4ea5-aeea-4da28ce1922f",
   "metadata": {},
   "outputs": [
    {
     "name": "stdout",
     "output_type": "stream",
     "text": [
      "ImageClassification(\n",
      "    crop_size=[224]\n",
      "    resize_size=[242]\n",
      "    mean=[0.485, 0.456, 0.406]\n",
      "    std=[0.229, 0.224, 0.225]\n",
      "    interpolation=InterpolationMode.BILINEAR\n",
      ")\n"
     ]
    }
   ],
   "source": [
    "print(preprocess)"
   ]
  },
  {
   "cell_type": "code",
   "execution_count": 21,
   "id": "0aeb68ff-044f-48ce-b9c7-6cfa33274015",
   "metadata": {},
   "outputs": [
    {
     "data": {
      "application/vnd.jupyter.widget-view+json": {
       "model_id": "1363cf10b5af43a5a66124aee461398b",
       "version_major": 2,
       "version_minor": 0
      },
      "text/plain": [
       "  0%|          | 0/12250 [00:00<?, ?it/s]"
      ]
     },
     "metadata": {},
     "output_type": "display_data"
    }
   ],
   "source": [
    "from tqdm.notebook import tqdm \n",
    "from torchvision.transforms.functional import to_pil_image\n",
    "\n",
    "features_test = []\n",
    "\n",
    "with torch.no_grad():\n",
    "    for i in tqdm(range(x_test_rgb.shape[0])):\n",
    "        prep = preprocess(to_pil_image(x_test_rgb[i]))\n",
    "        image_features = model(prep.cuda().unsqueeze(0)).float()\n",
    "        features_test.append(image_features)"
   ]
  },
  {
   "cell_type": "code",
   "execution_count": 22,
   "id": "9a59518a-c8fd-44fd-b95c-fed7ef4723db",
   "metadata": {},
   "outputs": [
    {
     "data": {
      "application/vnd.jupyter.widget-view+json": {
       "model_id": "7cc4f31bd9ed4b59be7d4d84fcf3e11b",
       "version_major": 2,
       "version_minor": 0
      },
      "text/plain": [
       "  0%|          | 0/60000 [00:00<?, ?it/s]"
      ]
     },
     "metadata": {},
     "output_type": "display_data"
    }
   ],
   "source": [
    "features_train = []\n",
    "\n",
    "with torch.no_grad():\n",
    "    for i in tqdm(range(x_train_rgb.shape[0])):\n",
    "        prep = preprocess(to_pil_image(x_train_rgb[i]))\n",
    "        image_features = model(prep.cuda().unsqueeze(0)).float()\n",
    "        features_train.append(image_features)"
   ]
  },
  {
   "cell_type": "code",
   "execution_count": 23,
   "id": "4eaa5fa2-e906-4486-9704-0c8a3a5110aa",
   "metadata": {},
   "outputs": [],
   "source": [
    "train_features = torch.cat(features_train).cpu()\n",
    "test_features = torch.cat(features_test).cpu()"
   ]
  },
  {
   "cell_type": "markdown",
   "id": "64a8f760-8251-44e1-af59-6df04b666338",
   "metadata": {},
   "source": [
    "# kNN-CLIP"
   ]
  },
  {
   "cell_type": "code",
   "execution_count": 24,
   "id": "ba43e58b-b4cf-4020-b8ee-3feb9229710a",
   "metadata": {},
   "outputs": [],
   "source": [
    "nbrs = NearestNeighbors(n_neighbors=1, algorithm='ball_tree', n_jobs=-1).fit(train_features.numpy())"
   ]
  },
  {
   "cell_type": "code",
   "execution_count": 25,
   "id": "7ac94002-d455-47eb-885d-32826c8e1472",
   "metadata": {},
   "outputs": [],
   "source": [
    "distances, indices = nbrs.kneighbors(test_features.numpy())"
   ]
  },
  {
   "cell_type": "code",
   "execution_count": 26,
   "id": "dc981b26-2685-4ec0-998e-d6078b6d1666",
   "metadata": {},
   "outputs": [
    {
     "name": "stdout",
     "output_type": "stream",
     "text": [
      "{'AUROC': 0.511908233165741, 'AUPR-IN': 0.1880882978439331, 'AUPR-OUT': 0.8220650553703308, 'FPR95TPR': 0.9434000253677368, 'Method': '1-NN', 'Backbone': 'ViT-L-16'}\n"
     ]
    }
   ],
   "source": [
    "metrics = OODMetrics()\n",
    "metrics.update(torch.tensor(distances), y_test)\n",
    "\n",
    "m = metrics.compute()\n",
    "m.update({\"Method\": \"1-NN\", \"Backbone\": \"ViT-L-16\"})\n",
    "all_results.append(m)\n",
    "print(m)"
   ]
  },
  {
   "cell_type": "markdown",
   "id": "7a0c5a67-0f69-4c65-8af6-4b003b1ee7cb",
   "metadata": {},
   "source": [
    "# Mahalanobis"
   ]
  },
  {
   "cell_type": "code",
   "execution_count": 28,
   "id": "a0e9eba9-07c4-404e-93da-d842697e342c",
   "metadata": {},
   "outputs": [
    {
     "name": "stdout",
     "output_type": "stream",
     "text": [
      "{'AUROC': 0.5, 'AUPR-IN': 0.5918367505073547, 'AUPR-OUT': 0.8230504989624023, 'FPR95TPR': 1.0, 'Method': 'Mahalanobis', 'Backbone': 'ViT-L-16'}\n"
     ]
    }
   ],
   "source": [
    "from sklearn.covariance import EmpiricalCovariance\n",
    "\n",
    "x_mean = train_features.mean(dim=0)\n",
    "\n",
    "cov = EmpiricalCovariance().fit((train_features - x_mean).numpy())\n",
    "distances = cov.mahalanobis((test_features - x_mean).numpy())\n",
    "\n",
    "metrics = OODMetrics()\n",
    "metrics.update(torch.tensor(distances), y_test)\n",
    "m = metrics.compute()\n",
    "m.update({\"Method\": \"Mahalanobis\", \"Backbone\": \"ViT-L-16\"})\n",
    "all_results.append(m)\n",
    "print(m)"
   ]
  },
  {
   "cell_type": "code",
   "execution_count": 29,
   "id": "a722b192-8548-4918-b13e-c3b065025a1f",
   "metadata": {},
   "outputs": [
    {
     "name": "stdout",
     "output_type": "stream",
     "text": [
      "\\begin{tabular}{llrrrr}\n",
      "\\toprule\n",
      " &  & AUROC & AUPR-IN & AUPR-OUT & FPR95TPR \\\\\n",
      "Method & Backbone &  &  &  &  \\\\\n",
      "\\midrule\n",
      "Deep SVDD & - & 49.48 & 18.16 & 81.63 & 94.67 \\\\\n",
      "\\cline{1-6}\n",
      "1-NN & - & 50.00 & 59.18 & 90.82 & 100.00 \\\\\n",
      "\\cline{1-6}\n",
      "\\multirow[t]{2}{*}{Mahalanobis} & - & 50.00 & 59.18 & 90.82 & 100.00 \\\\\n",
      " & ViT-L-16 & 50.00 & 59.18 & 82.31 & 100.00 \\\\\n",
      "\\cline{1-6}\n",
      "1-NN & ViT-L-16 & 51.19 & 18.81 & 82.21 & 94.34 \\\\\n",
      "\\cline{1-6}\n",
      "\\bottomrule\n",
      "\\end{tabular}\n",
      "\n"
     ]
    }
   ],
   "source": [
    "df = pd.DataFrame(all_results)\n",
    "mean_scores = df.groupby([\"Method\", \"Backbone\"]).mean() * 100\n",
    "\n",
    "print(mean_scores.sort_values(\"AUROC\").to_latex(float_format=\"%.2f\"))"
   ]
  },
  {
   "cell_type": "code",
   "execution_count": 30,
   "id": "65e99f17-2ba0-4d1a-b7aa-6dafbd1a39d4",
   "metadata": {},
   "outputs": [
    {
     "data": {
      "text/html": [
       "<div>\n",
       "<style scoped>\n",
       "    .dataframe tbody tr th:only-of-type {\n",
       "        vertical-align: middle;\n",
       "    }\n",
       "\n",
       "    .dataframe tbody tr th {\n",
       "        vertical-align: top;\n",
       "    }\n",
       "\n",
       "    .dataframe thead th {\n",
       "        text-align: right;\n",
       "    }\n",
       "</style>\n",
       "<table border=\"1\" class=\"dataframe\">\n",
       "  <thead>\n",
       "    <tr style=\"text-align: right;\">\n",
       "      <th></th>\n",
       "      <th></th>\n",
       "      <th>AUROC</th>\n",
       "      <th>AUPR-IN</th>\n",
       "      <th>AUPR-OUT</th>\n",
       "      <th>FPR95TPR</th>\n",
       "    </tr>\n",
       "    <tr>\n",
       "      <th>Method</th>\n",
       "      <th>Backbone</th>\n",
       "      <th></th>\n",
       "      <th></th>\n",
       "      <th></th>\n",
       "      <th></th>\n",
       "    </tr>\n",
       "  </thead>\n",
       "  <tbody>\n",
       "    <tr>\n",
       "      <th>Deep SVDD</th>\n",
       "      <th>-</th>\n",
       "      <td>49.482173</td>\n",
       "      <td>18.162596</td>\n",
       "      <td>81.627750</td>\n",
       "      <td>94.669998</td>\n",
       "    </tr>\n",
       "    <tr>\n",
       "      <th>1-NN</th>\n",
       "      <th>-</th>\n",
       "      <td>50.000000</td>\n",
       "      <td>59.183675</td>\n",
       "      <td>90.816331</td>\n",
       "      <td>100.000000</td>\n",
       "    </tr>\n",
       "    <tr>\n",
       "      <th rowspan=\"2\" valign=\"top\">Mahalanobis</th>\n",
       "      <th>-</th>\n",
       "      <td>50.000000</td>\n",
       "      <td>59.183675</td>\n",
       "      <td>90.816331</td>\n",
       "      <td>100.000000</td>\n",
       "    </tr>\n",
       "    <tr>\n",
       "      <th>ViT-L-16</th>\n",
       "      <td>50.000000</td>\n",
       "      <td>59.183675</td>\n",
       "      <td>82.305050</td>\n",
       "      <td>100.000000</td>\n",
       "    </tr>\n",
       "    <tr>\n",
       "      <th>1-NN</th>\n",
       "      <th>ViT-L-16</th>\n",
       "      <td>51.190823</td>\n",
       "      <td>18.808830</td>\n",
       "      <td>82.206506</td>\n",
       "      <td>94.340003</td>\n",
       "    </tr>\n",
       "  </tbody>\n",
       "</table>\n",
       "</div>"
      ],
      "text/plain": [
       "                          AUROC    AUPR-IN   AUPR-OUT    FPR95TPR\n",
       "Method      Backbone                                             \n",
       "Deep SVDD   -         49.482173  18.162596  81.627750   94.669998\n",
       "1-NN        -         50.000000  59.183675  90.816331  100.000000\n",
       "Mahalanobis -         50.000000  59.183675  90.816331  100.000000\n",
       "            ViT-L-16  50.000000  59.183675  82.305050  100.000000\n",
       "1-NN        ViT-L-16  51.190823  18.808830  82.206506   94.340003"
      ]
     },
     "execution_count": 30,
     "metadata": {},
     "output_type": "execute_result"
    }
   ],
   "source": [
    "mean_scores.sort_values(\"AUROC\")"
   ]
  },
  {
   "cell_type": "code",
   "execution_count": 36,
   "id": "5d287c99-9bf5-45a5-af97-17b23b2dcbbe",
   "metadata": {},
   "outputs": [],
   "source": [
    "torch.save(train_features, f\"vit_l_16_train.pt\")"
   ]
  },
  {
   "cell_type": "code",
   "execution_count": 37,
   "id": "9860d0ed-5e82-4440-b922-135c51dcd9c1",
   "metadata": {},
   "outputs": [],
   "source": [
    "torch.save(test_features, f\"vit_l_16_test.pt\")"
   ]
  }
 ],
 "metadata": {
  "kernelspec": {
   "display_name": "pytorch",
   "language": "python",
   "name": "pytorch"
  },
  "language_info": {
   "codemirror_mode": {
    "name": "ipython",
    "version": 3
   },
   "file_extension": ".py",
   "mimetype": "text/x-python",
   "name": "python",
   "nbconvert_exporter": "python",
   "pygments_lexer": "ipython3",
   "version": "3.10.11"
  }
 },
 "nbformat": 4,
 "nbformat_minor": 5
}
