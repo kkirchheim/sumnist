{
 "cells": [
  {
   "cell_type": "code",
   "execution_count": 3,
   "id": "1a55975c-6566-4200-8819-4c65662ace50",
   "metadata": {},
   "outputs": [
    {
     "name": "stderr",
     "output_type": "stream",
     "text": [
      "/home/kirchhei/.local/lib/python3.10/site-packages/torchvision/datasets/mnist.py:75: UserWarning: train_data has been renamed data\n",
      "  warnings.warn(\"train_data has been renamed data\")\n"
     ]
    }
   ],
   "source": [
    "from torchvision.datasets import MNIST \n",
    "import numpy as np \n",
    "\n",
    "ds = MNIST(\"data\", download=True, train=True)\n",
    "labels = ds.targets\n",
    "imgs = ds.train_data\n",
    "imgs.shape\n",
    "\n",
    "d = {}\n",
    "\n",
    "for i in np.unique(labels):\n",
    "    d[i] = imgs[labels == i]\n",
    "    "
   ]
  },
  {
   "cell_type": "code",
   "execution_count": 2,
   "id": "a77d1a1d-bba5-4a42-a395-c172400e55e1",
   "metadata": {},
   "outputs": [],
   "source": [
    "import random\n",
    "\n",
    "def constrained_sum_sample_pos(n, total):\n",
    "    \"\"\"Return a randomly chosen list of n positive integers summing to total.\n",
    "    Each such list is equally likely to occur.\"\"\"\n",
    "\n",
    "    dividers = sorted(random.sample(range(0, total), n - 1))\n",
    "    return [a - b for a, b in zip(dividers + [total], [0] + dividers)]\n",
    "\n",
    "def generate(total=20):\n",
    "    nums = [11]\n",
    "    while max(nums) >= 10:\n",
    "        nums = constrained_sum_sample_pos(4, total)\n",
    "        # print(nums)\n",
    "    \n",
    "    nums = np.random.permutation(nums)\n",
    "    tmp[0:28,0:28] = d[nums[0]][np.random.randint(0, len(d[nums[0]]))]\n",
    "    tmp[28:56,0:28] = d[nums[1]][np.random.randint(0, len(d[nums[1]]))]\n",
    "    tmp[0:28,28:56] = d[nums[2]][np.random.randint(0, len(d[nums[2]]))]\n",
    "    tmp[28:56,28:56] = d[nums[3]][np.random.randint(0, len(d[nums[3]]))]\n",
    "    return tmp, nums"
   ]
  },
  {
   "cell_type": "code",
   "execution_count": 3,
   "id": "4d15fe6f-7b4d-4359-b281-3b99111eb220",
   "metadata": {},
   "outputs": [],
   "source": [
    "import torch \n",
    "import matplotlib.pyplot as plt \n",
    "\n",
    "imgs = []\n",
    "labels = []\n",
    "\n",
    "\n",
    "for i in range(60000):\n",
    "    tmp = torch.zeros(size=(56,56))\n",
    "    tmp, nums = generate(total=20)\n",
    "    imgs.append(tmp.numpy())\n",
    "    labels.append(nums)\n"
   ]
  },
  {
   "cell_type": "code",
   "execution_count": 4,
   "id": "92165835-8aac-4d5c-876a-1962527b173b",
   "metadata": {},
   "outputs": [
    {
     "data": {
      "image/png": "[encoded data removed]",
      "text/plain": [
       "<Figure size 432x288 with 6 Axes>"
      ]
     },
     "metadata": {
      "needs_background": "light"
     },
     "output_type": "display_data"
    }
   ],
   "source": [
    "t = 5\n",
    "fig, ax = plt.subplots(1,t+1)\n",
    "\n",
    "ax = ax.flatten()\n",
    "\n",
    "start_i = 110\n",
    "\n",
    "for i, n in enumerate(np.random.permutation(range(start_i, start_i+t+1))):\n",
    "    if i == 3:\n",
    "        ax[i].imshow(generate(21)[0], cmap=\"gray\")\n",
    "        ax[i].axis('off')\n",
    "    else:\n",
    "        ax[i].imshow(imgs[n], cmap=\"gray\")\n",
    "        ax[i].axis('off')\n",
    "    \n",
    "# add some unknown example \n",
    "# d = np.load(\"x-test.npz\")\n",
    "# data = d[\"arr_0\"]\n",
    "\n",
    "plt.axis('off')\n",
    "plt.tight_layout()\n",
    "plt.savefig(\"mnist-example.png\", dpi=300, bbox_inches=\"tight\")\n",
    "plt.show()"
   ]
  },
  {
   "cell_type": "code",
   "execution_count": 6,
   "id": "77dde39e-bfca-4fad-bfc5-d37566c4ac70",
   "metadata": {},
   "outputs": [],
   "source": [
    "labels = np.array(labels)\n",
    "imgs = np.array(imgs)"
   ]
  },
  {
   "cell_type": "code",
   "execution_count": 7,
   "id": "d623ea3d-5c83-42f2-b79f-09594df5c273",
   "metadata": {},
   "outputs": [],
   "source": [
    "np.savez(\"sumnist/y-train.npz\", labels)\n",
    "np.savez(\"sumnist/x-train.npz\", imgs)"
   ]
  },
  {
   "cell_type": "code",
   "execution_count": 8,
   "id": "e3377287-5246-41e0-ac13-6711d9a521ec",
   "metadata": {},
   "outputs": [
    {
     "name": "stderr",
     "output_type": "stream",
     "text": [
      "/home/ki/.local/share/anaconda3/envs/myenv/lib/python3.9/site-packages/torchvision/datasets/mnist.py:75: UserWarning: train_data has been renamed data\n",
      "  warnings.warn(\"train_data has been renamed data\")\n"
     ]
    }
   ],
   "source": [
    "ds = MNIST(\"data\", download=True, train=False)\n",
    "labels = ds.targets\n",
    "imgs = ds.train_data\n",
    "imgs.shape\n",
    "\n",
    "d = {}\n",
    "\n",
    "for i in np.unique(labels):\n",
    "    d[i] = imgs[labels == i]"
   ]
  },
  {
   "cell_type": "code",
   "execution_count": 9,
   "id": "3595492b-2213-4ac4-9e5f-9bdb48ab98a4",
   "metadata": {},
   "outputs": [],
   "source": [
    "imgs = []\n",
    "labels = []\n",
    "\n",
    "for i in range(10000):\n",
    "    tmp = torch.zeros(size=(56,56))\n",
    "    tmp, nums = generate()\n",
    "    imgs.append(tmp.numpy())\n",
    "    labels.append(nums)\n"
   ]
  },
  {
   "cell_type": "code",
   "execution_count": 15,
   "id": "aaede348-f790-440a-b63e-d151e9e701d9",
   "metadata": {},
   "outputs": [
    {
     "name": "stdout",
     "output_type": "stream",
     "text": [
      "10\n",
      "11\n",
      "12\n",
      "13\n",
      "14\n",
      "15\n",
      "16\n",
      "17\n",
      "18\n",
      "19\n",
      "21\n",
      "22\n",
      "23\n",
      "24\n",
      "25\n"
     ]
    }
   ],
   "source": [
    "        \n",
    "for i in [10,11,12,13,14,15,16,17,18,19,21,22,23,24,25]:\n",
    "    print(i)\n",
    "    for _ in range(100):\n",
    "        tmp = torch.zeros(size=(56,56))\n",
    "        tmp, nums = generate(i)\n",
    "        imgs.append(tmp.numpy())\n",
    "        labels.append(nums)"
   ]
  },
  {
   "cell_type": "code",
   "execution_count": 16,
   "id": "5e5a53ad-5c8e-4cec-9e67-0813d05705f7",
   "metadata": {},
   "outputs": [
    {
     "data": {
      "text/plain": [
       "12250"
      ]
     },
     "execution_count": 16,
     "metadata": {},
     "output_type": "execute_result"
    }
   ],
   "source": [
    "len(labels)"
   ]
  },
  {
   "cell_type": "code",
   "execution_count": 17,
   "id": "1085727b-8017-4f00-bd6a-9b813c4d148e",
   "metadata": {},
   "outputs": [],
   "source": [
    "np.savez(\"sumnist/y-test.npz\", labels)\n",
    "np.savez(\"sumnist/x-test.npz\", imgs)"
   ]
  },
  {
   "cell_type": "markdown",
   "id": "99d83706-8eb8-4201-8f5c-2dcf71c47b4e",
   "metadata": {},
   "source": [
    "# Visualizations "
   ]
  },
  {
   "cell_type": "code",
   "execution_count": 30,
   "id": "554a1d8c-9287-42a0-b0f5-e4c1bb1af60a",
   "metadata": {},
   "outputs": [],
   "source": [
    "import numpy as np \n",
    "import torch \n",
    "\n",
    "with np.load(\"sumnist/x-test.npz\") as data:\n",
    "    x_test = torch.tensor(data['arr_0'])\n",
    "\n",
    "with np.load(\"sumnist/y-train.npz\") as data:\n",
    "    y_train = torch.tensor(data['arr_0'])\n",
    "    \n",
    "with np.load(\"sumnist/x-train.npz\") as data:\n",
    "    x_train = torch.tensor(data['arr_0'])\n",
    "    \n",
    "with np.load(\"sumnist/y-test.npz\") as data:\n",
    "    y_test = torch.tensor(data['arr_0'])"
   ]
  },
  {
   "cell_type": "code",
   "execution_count": 39,
   "id": "e0e808e2-e89e-4bbc-9ac7-d700553e6ea0",
   "metadata": {},
   "outputs": [
    {
     "data": {
      "image/png": "[encoded data removed]",
      "text/plain": [
       "<Figure size 640x480 with 1 Axes>"
      ]
     },
     "metadata": {},
     "output_type": "display_data"
    }
   ],
   "source": [
    "import matplotlib.pyplot as plt \n",
    "\n",
    "plt.hist(y_test.flatten().numpy(), bins=10, align=\"left\")\n",
    "_ = plt.xticks(range(11))"
   ]
  },
  {
   "cell_type": "code",
   "execution_count": 40,
   "id": "3e3fab17-5346-4979-87b0-773d512e898c",
   "metadata": {},
   "outputs": [
    {
     "data": {
      "image/png": "[encoded data removed]",
      "text/plain": [
       "<Figure size 640x480 with 1 Axes>"
      ]
     },
     "metadata": {},
     "output_type": "display_data"
    }
   ],
   "source": [
    "plt.hist(y_train.flatten().numpy(), bins=10, align=\"left\")\n",
    "_ = plt.xticks(range(11))"
   ]
  },
  {
   "cell_type": "code",
   "execution_count": 24,
   "id": "a50c5788-446b-43f0-995d-43d1a1d4d886",
   "metadata": {},
   "outputs": [
    {
     "name": "stdout",
     "output_type": "stream",
     "text": [
      "Help on function hist in module matplotlib.pyplot:\n",
      "\n",
      "hist(x, bins=None, range=None, density=False, weights=None, cumulative=False, bottom=None, histtype='bar', align='mid', orientation='vertical', rwidth=None, log=False, color=None, label=None, stacked=False, *, data=None, **kwargs)\n",
      "    Compute and plot a histogram.\n",
      "    \n",
      "    This method uses `numpy.histogram` to bin the data in *x* and count the\n",
      "    number of values in each bin, then draws the distribution either as a\n",
      "    `.BarContainer` or `.Polygon`. The *bins*, *range*, *density*, and\n",
      "    *weights* parameters are forwarded to `numpy.histogram`.\n",
      "    \n",
      "    If the data has already been binned and counted, use `~.bar` or\n",
      "    `~.stairs` to plot the distribution::\n",
      "    \n",
      "        counts, bins = np.histogram(x)\n",
      "        plt.stairs(counts, bins)\n",
      "    \n",
      "    Alternatively, plot pre-computed bins and counts using ``hist()`` by\n",
      "    treating each bin as a single point with a weight equal to its count::\n",
      "    \n",
      "        plt.hist(bins[:-1], bins, weights=counts)\n",
      "    \n",
      "    The data input *x* can be a singular array, a list of datasets of\n",
      "    potentially different lengths ([*x0*, *x1*, ...]), or a 2D ndarray in\n",
      "    which each column is a dataset. Note that the ndarray form is\n",
      "    transposed relative to the list form. If the input is an array, then\n",
      "    the return value is a tuple (*n*, *bins*, *patches*); if the input is a\n",
      "    sequence of arrays, then the return value is a tuple\n",
      "    ([*n0*, *n1*, ...], *bins*, [*patches0*, *patches1*, ...]).\n",
      "    \n",
      "    Masked arrays are not supported.\n",
      "    \n",
      "    Parameters\n",
      "    ----------\n",
      "    x : (n,) array or sequence of (n,) arrays\n",
      "        Input values, this takes either a single array or a sequence of\n",
      "        arrays which are not required to be of the same length.\n",
      "    \n",
      "    bins : int or sequence or str, default: :rc:`hist.bins`\n",
      "        If *bins* is an integer, it defines the number of equal-width bins\n",
      "        in the range.\n",
      "    \n",
      "        If *bins* is a sequence, it defines the bin edges, including the\n",
      "        left edge of the first bin and the right edge of the last bin;\n",
      "        in this case, bins may be unequally spaced.  All but the last\n",
      "        (righthand-most) bin is half-open.  In other words, if *bins* is::\n",
      "    \n",
      "            [1, 2, 3, 4]\n",
      "    \n",
      "        then the first bin is ``[1, 2)`` (including 1, but excluding 2) and\n",
      "        the second ``[2, 3)``.  The last bin, however, is ``[3, 4]``, which\n",
      "        *includes* 4.\n",
      "    \n",
      "        If *bins* is a string, it is one of the binning strategies\n",
      "        supported by `numpy.histogram_bin_edges`: 'auto', 'fd', 'doane',\n",
      "        'scott', 'stone', 'rice', 'sturges', or 'sqrt'.\n",
      "    \n",
      "    range : tuple or None, default: None\n",
      "        The lower and upper range of the bins. Lower and upper outliers\n",
      "        are ignored. If not provided, *range* is ``(x.min(), x.max())``.\n",
      "        Range has no effect if *bins* is a sequence.\n",
      "    \n",
      "        If *bins* is a sequence or *range* is specified, autoscaling\n",
      "        is based on the specified bin range instead of the\n",
      "        range of x.\n",
      "    \n",
      "    density : bool, default: False\n",
      "        If ``True``, draw and return a probability density: each bin\n",
      "        will display the bin's raw count divided by the total number of\n",
      "        counts *and the bin width*\n",
      "        (``density = counts / (sum(counts) * np.diff(bins))``),\n",
      "        so that the area under the histogram integrates to 1\n",
      "        (``np.sum(density * np.diff(bins)) == 1``).\n",
      "    \n",
      "        If *stacked* is also ``True``, the sum of the histograms is\n",
      "        normalized to 1.\n",
      "    \n",
      "    weights : (n,) array-like or None, default: None\n",
      "        An array of weights, of the same shape as *x*.  Each value in\n",
      "        *x* only contributes its associated weight towards the bin count\n",
      "        (instead of 1).  If *density* is ``True``, the weights are\n",
      "        normalized, so that the integral of the density over the range\n",
      "        remains 1.\n",
      "    \n",
      "    cumulative : bool or -1, default: False\n",
      "        If ``True``, then a histogram is computed where each bin gives the\n",
      "        counts in that bin plus all bins for smaller values. The last bin\n",
      "        gives the total number of datapoints.\n",
      "    \n",
      "        If *density* is also ``True`` then the histogram is normalized such\n",
      "        that the last bin equals 1.\n",
      "    \n",
      "        If *cumulative* is a number less than 0 (e.g., -1), the direction\n",
      "        of accumulation is reversed.  In this case, if *density* is also\n",
      "        ``True``, then the histogram is normalized such that the first bin\n",
      "        equals 1.\n",
      "    \n",
      "    bottom : array-like, scalar, or None, default: None\n",
      "        Location of the bottom of each bin, i.e. bins are drawn from\n",
      "        ``bottom`` to ``bottom + hist(x, bins)`` If a scalar, the bottom\n",
      "        of each bin is shifted by the same amount. If an array, each bin\n",
      "        is shifted independently and the length of bottom must match the\n",
      "        number of bins. If None, defaults to 0.\n",
      "    \n",
      "    histtype : {'bar', 'barstacked', 'step', 'stepfilled'}, default: 'bar'\n",
      "        The type of histogram to draw.\n",
      "    \n",
      "        - 'bar' is a traditional bar-type histogram.  If multiple data\n",
      "          are given the bars are arranged side by side.\n",
      "        - 'barstacked' is a bar-type histogram where multiple\n",
      "          data are stacked on top of each other.\n",
      "        - 'step' generates a lineplot that is by default unfilled.\n",
      "        - 'stepfilled' generates a lineplot that is by default filled.\n",
      "    \n",
      "    align : {'left', 'mid', 'right'}, default: 'mid'\n",
      "        The horizontal alignment of the histogram bars.\n",
      "    \n",
      "        - 'left': bars are centered on the left bin edges.\n",
      "        - 'mid': bars are centered between the bin edges.\n",
      "        - 'right': bars are centered on the right bin edges.\n",
      "    \n",
      "    orientation : {'vertical', 'horizontal'}, default: 'vertical'\n",
      "        If 'horizontal', `~.Axes.barh` will be used for bar-type histograms\n",
      "        and the *bottom* kwarg will be the left edges.\n",
      "    \n",
      "    rwidth : float or None, default: None\n",
      "        The relative width of the bars as a fraction of the bin width.  If\n",
      "        ``None``, automatically compute the width.\n",
      "    \n",
      "        Ignored if *histtype* is 'step' or 'stepfilled'.\n",
      "    \n",
      "    log : bool, default: False\n",
      "        If ``True``, the histogram axis will be set to a log scale.\n",
      "    \n",
      "    color : color or array-like of colors or None, default: None\n",
      "        Color or sequence of colors, one per dataset.  Default (``None``)\n",
      "        uses the standard line color sequence.\n",
      "    \n",
      "    label : str or None, default: None\n",
      "        String, or sequence of strings to match multiple datasets.  Bar\n",
      "        charts yield multiple patches per dataset, but only the first gets\n",
      "        the label, so that `~.Axes.legend` will work as expected.\n",
      "    \n",
      "    stacked : bool, default: False\n",
      "        If ``True``, multiple data are stacked on top of each other If\n",
      "        ``False`` multiple data are arranged side by side if histtype is\n",
      "        'bar' or on top of each other if histtype is 'step'\n",
      "    \n",
      "    Returns\n",
      "    -------\n",
      "    n : array or list of arrays\n",
      "        The values of the histogram bins. See *density* and *weights* for a\n",
      "        description of the possible semantics.  If input *x* is an array,\n",
      "        then this is an array of length *nbins*. If input is a sequence of\n",
      "        arrays ``[data1, data2, ...]``, then this is a list of arrays with\n",
      "        the values of the histograms for each of the arrays in the same\n",
      "        order.  The dtype of the array *n* (or of its element arrays) will\n",
      "        always be float even if no weighting or normalization is used.\n",
      "    \n",
      "    bins : array\n",
      "        The edges of the bins. Length nbins + 1 (nbins left edges and right\n",
      "        edge of last bin).  Always a single array even when multiple data\n",
      "        sets are passed in.\n",
      "    \n",
      "    patches : `.BarContainer` or list of a single `.Polygon` or list of such objects\n",
      "        Container of individual artists used to create the histogram\n",
      "        or list of such containers if there are multiple input datasets.\n",
      "    \n",
      "    Other Parameters\n",
      "    ----------------\n",
      "    data : indexable object, optional\n",
      "        If given, the following parameters also accept a string ``s``, which is\n",
      "        interpreted as ``data[s]`` (unless this raises an exception):\n",
      "    \n",
      "        *x*, *weights*\n",
      "    \n",
      "    **kwargs\n",
      "        `~matplotlib.patches.Patch` properties\n",
      "    \n",
      "    See Also\n",
      "    --------\n",
      "    hist2d : 2D histogram with rectangular bins\n",
      "    hexbin : 2D histogram with hexagonal bins\n",
      "    \n",
      "    Notes\n",
      "    -----\n",
      "    For large numbers of bins (>1000), plotting can be significantly faster\n",
      "    if *histtype* is set to 'step' or 'stepfilled' rather than 'bar' or\n",
      "    'barstacked'.\n",
      "\n"
     ]
    }
   ],
   "source": [
    "help(plt.hist)"
   ]
  },
  {
   "cell_type": "code",
   "execution_count": null,
   "id": "d6d9d3d2-7ee6-49c0-a4b4-c7812410fb12",
   "metadata": {},
   "outputs": [],
   "source": []
  }
 ],
 "metadata": {
  "kernelspec": {
   "display_name": "pytorch",
   "language": "python",
   "name": "pytorch"
  },
  "language_info": {
   "codemirror_mode": {
    "name": "ipython",
    "version": 3
   },
   "file_extension": ".py",
   "mimetype": "text/x-python",
   "name": "python",
   "nbconvert_exporter": "python",
   "pygments_lexer": "ipython3",
   "version": "3.10.11"
  }
 },
 "nbformat": 4,
 "nbformat_minor": 5
}
